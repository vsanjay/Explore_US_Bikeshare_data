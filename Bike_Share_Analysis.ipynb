{
 "cells": [
  {
   "cell_type": "markdown",
   "metadata": {},
   "source": [
    "# 2016 US Bike Share Activity Snapshot\n",
    "\n",
    "## Table of Contents\n",
    "- [Introduction](#intro)\n",
    "- [Posing Questions](#pose_questions)\n",
    "- [Data Collection and Wrangling](#wrangling)\n",
    "  - [Condensing the Trip Data](#condensing)\n",
    "- [Exploratory Data Analysis](#eda)\n",
    "  - [Statistics](#statistics)\n",
    "  - [Visualizations](#visualizations)\n",
    "- [Performing Your Own Analysis](#eda_continued)\n",
    "- [Conclusions](#conclusions)\n",
    "\n",
    "<a id='intro'></a>\n",
    "## Introduction\n",
    "\n",
    "> **Tip**: Quoted sections like this will provide helpful instructions on how to navigate and use a Jupyter notebook.\n",
    "\n",
    "Over the past decade, bicycle-sharing systems have been growing in number and popularity in cities across the world. Bicycle-sharing systems allow users to rent bicycles for short trips, typically 30 minutes or less. Thanks to the rise in information technologies, it is easy for a user of the system to access a dock within the system to unlock or return bicycles. These technologies also provide a wealth of data that can be used to explore how these bike-sharing systems are used.\n",
    "\n",
    "In this project, you will perform an exploratory analysis on data provided by [Motivate](https://www.motivateco.com/), a bike-share system provider for many major cities in the United States. You will compare the system usage between three large cities: New York City, Chicago, and Washington, DC. You will also see if there are any differences within each system for those users that are registered, regular users and those users that are short-term, casual users."
   ]
  },
  {
   "cell_type": "markdown",
   "metadata": {},
   "source": [
    "<a id='pose_questions'></a>\n",
    "## Posing Questions\n",
    "\n",
    "Before looking at the bike sharing data, you should start by asking questions you might want to understand about the bike share data. Consider, for example, if you were working for Motivate. What kinds of information would you want to know about in order to make smarter business decisions? If you were a user of the bike-share service, what factors might influence how you would want to use the service?\n",
    "\n",
    "**Question 1**: Write at least two questions related to bike sharing that you think could be answered by data.\n",
    "\n",
    "**Answer**: \n",
    "\n",
    "1.First thing is that we need to know what is the optimal number of bicycles we should provide so that there will be no customer waiting for bicycle.Also,if you buy more bicycles to provide more which sometimes could be excess which inturn is a loss for company.So,we should first find the optimal number of bicycles we need to get.\n",
    "\n",
    "2.We also need to know if there is any sudden hike in number of users in a particular month of an year.That may be because of any festival or event that happens every year etc.So,we need to know that data so that we can add more bicycles for that month.\n",
    "\n",
    "\n"
   ]
  },
  {
   "cell_type": "markdown",
   "metadata": {},
   "source": [
    "<a id='wrangling'></a>\n",
    "## Data Collection and Wrangling\n",
    "\n",
    "Now it's time to collect and explore our data. In this project, we will focus on the record of individual trips taken in 2016 from our selected cities: New York City, Chicago, and Washington, DC. Each of these cities has a page where we can freely download the trip data.:\n",
    "\n",
    "- New York City (Citi Bike): [Link](https://www.citibikenyc.com/system-data)\n",
    "- Chicago (Divvy): [Link](https://www.divvybikes.com/system-data)\n",
    "- Washington, DC (Capital Bikeshare): [Link](https://www.capitalbikeshare.com/system-data)\n",
    "\n",
    "If you visit these pages, you will notice that each city has a different way of delivering its data. Chicago updates with new data twice a year, Washington DC is quarterly, and New York City is monthly. **However, you do not need to download the data yourself.** The data has already been collected for you in the `/data/` folder of the project files. While the original data for 2016 is spread among multiple files for each city, the files in the `/data/` folder collect all of the trip data for the year into one file per city. Some data wrangling of inconsistencies in timestamp format within each city has already been performed for you. In addition, a random 2% sample of the original data is taken to make the exploration more manageable. \n",
    "\n",
    "**Question 2**: However, there is still a lot of data for us to investigate, so it's a good idea to start off by looking at one entry from each of the cities we're going to analyze. Run the first code cell below to load some packages and functions that you'll be using in your analysis. Then, complete the second code cell to print out the first trip recorded from each of the cities (the second line of each data file).\n",
    "\n",
    "> **Tip**: You can run a code cell like you formatted Markdown cells above by clicking on the cell and using the keyboard shortcut **Shift** + **Enter** or **Shift** + **Return**. Alternatively, a code cell can be executed using the **Play** button in the toolbar after selecting it. While the cell is running, you will see an asterisk in the message to the left of the cell, i.e. `In [*]:`. The asterisk will change into a number to show that execution has completed, e.g. `In [1]`. If there is output, it will show up as `Out [1]:`, with an appropriate number to match the \"In\" number."
   ]
  },
  {
   "cell_type": "code",
   "execution_count": 1,
   "metadata": {
    "collapsed": true
   },
   "outputs": [],
   "source": [
    "## import all necessary packages and functions.\n",
    "import csv # read and write csv files\n",
    "from datetime import datetime # operations to parse dates\n",
    "from pprint import pprint # use to print data structures like dictionaries in\n",
    "import pandas as pd                          # a nicer way than the base print function."
   ]
  },
  {
   "cell_type": "code",
   "execution_count": 2,
   "metadata": {},
   "outputs": [
    {
     "name": "stdout",
     "output_type": "stream",
     "text": [
      "\n",
      "City: NYC\n",
      "{'birth year': '', 'end station longitude': '-73.98997825', 'bikeid': '17109', 'start station id': '532', 'start station longitude': '-73.960876', 'end station latitude': '40.72019576', 'end station name': 'Allen St & Rivington St', 'start station latitude': '40.710451', 'end station id': '401', 'usertype': 'Customer', 'stoptime': '1/1/2016 00:23:54', 'starttime': '1/1/2016 00:09:55', 'gender': '0', 'tripduration': '839', 'start station name': 'S 5 Pl & S 4 St'}\n",
      "\n",
      "City: Chicago\n",
      "{'bikeid': '2295', 'birthyear': '1990', 'gender': 'Male', 'to_station_name': 'Ashland Ave & Wrightwood Ave', 'from_station_name': 'Clark St & Wellington Ave', 'usertype': 'Subscriber', 'stoptime': '3/31/2016 23:46', 'from_station_id': '156', 'starttime': '3/31/2016 23:30', 'to_station_id': '166', 'tripduration': '926', 'trip_id': '9080545'}\n",
      "\n",
      "City: Washington\n",
      "{'End station number': '31207', 'End date': '3/31/2016 23:04', 'Start station number': '31602', 'Duration (ms)': '427387', 'Bike number': 'W20842', 'End station': 'Georgia Ave and Fairmont St NW', 'Start station': 'Park Rd & Holmead Pl NW', 'Member Type': 'Registered', 'Start date': '3/31/2016 22:57'}\n"
     ]
    }
   ],
   "source": [
    "def print_first_point(filename):\n",
    "    \"\"\"\n",
    "    This function prints and returns the first data point (second row) from\n",
    "    a csv file that includes a header row.\n",
    "    \"\"\"\n",
    "    # print city name for reference\n",
    "    city = filename.split('-')[0].split('/')[-1]\n",
    "    print('\\nCity: {}'.format(city))\n",
    "    \n",
    "    with open(filename, 'r') as f_in:\n",
    "        ## TODO: Use the csv library to set up a DictReader object. ##\n",
    "        ## see https://docs.python.org/3/library/csv.html           ##\n",
    "        trip_reader = csv.DictReader(f_in)\n",
    "        \n",
    "        ## TODO: Use a function on the DictReader object to read the     ##\n",
    "        ## first trip from the data file and store it in a variable.     ##\n",
    "        ## see https://docs.python.org/3/library/csv.html#reader-objects ##\n",
    "        first_trip = next(trip_reader)\n",
    "        \n",
    "        ## TODO: Use the pprint library to print the first trip. ##\n",
    "        ## see https://docs.python.org/3/library/pprint.html     ##\n",
    "        \n",
    "    # output city name and first trip for later testing\n",
    "    return (city, first_trip)\n",
    "\n",
    "# list of files for each city\n",
    "data_files = ['NYC-CitiBike-2016.csv',\n",
    "              'Chicago-Divvy-2016.csv',\n",
    "              'Washington-CapitalBikeshare-2016.csv',]\n",
    "\n",
    "# print the first trip from each file, store in dictionary\n",
    "example_trips = {}\n",
    "for data_file in data_files:\n",
    "    city, first_trip = print_first_point(data_file)\n",
    "    example_trips[city] = first_trip\n",
    "    print(example_trips[city])"
   ]
  },
  {
   "cell_type": "markdown",
   "metadata": {},
   "source": [
    "If everything has been filled out correctly, you should see below the printout of each city name (which has been parsed from the data file name) that the first trip has been parsed in the form of a dictionary. When you set up a `DictReader` object, the first row of the data file is normally interpreted as column names. Every other row in the data file will use those column names as keys, as a dictionary is generated for each row.\n",
    "\n",
    "This will be useful since we can refer to quantities by an easily-understandable label instead of just a numeric index. For example, if we have a trip stored in the variable `row`, then we would rather get the trip duration from `row['duration']` instead of `row[0]`.\n",
    "\n",
    "<a id='condensing'></a>\n",
    "### Condensing the Trip Data\n",
    "\n",
    "It should also be observable from the above printout that each city provides different information. Even where the information is the same, the column names and formats are sometimes different. To make things as simple as possible when we get to the actual exploration, we should trim and clean the data. Cleaning the data makes sure that the data formats across the cities are consistent, while trimming focuses only on the parts of the data we are most interested in to make the exploration easier to work with.\n",
    "\n",
    "You will generate new data files with five values of interest for each trip: trip duration, starting month, starting hour, day of the week, and user type. Each of these may require additional wrangling depending on the city:\n",
    "\n",
    "- **Duration**: This has been given to us in seconds (New York, Chicago) or milliseconds (Washington). A more natural unit of analysis will be if all the trip durations are given in terms of minutes.\n",
    "- **Month**, **Hour**, **Day of Week**: Ridership volume is likely to change based on the season, time of day, and whether it is a weekday or weekend. Use the start time of the trip to obtain these values. The New York City data includes the seconds in their timestamps, while Washington and Chicago do not. The [`datetime`](https://docs.python.org/3/library/datetime.html) package will be very useful here to make the needed conversions.\n",
    "- **User Type**: It is possible that users who are subscribed to a bike-share system will have different patterns of use compared to users who only have temporary passes. Washington divides its users into two types: 'Registered' for users with annual, monthly, and other longer-term subscriptions, and 'Casual', for users with 24-hour, 3-day, and other short-term passes. The New York and Chicago data uses 'Subscriber' and 'Customer' for these groups, respectively. For consistency, you will convert the Washington labels to match the other two.\n",
    "\n",
    "\n",
    "**Question 3a**: Complete the helper functions in the code cells below to address each of the cleaning tasks described above."
   ]
  },
  {
   "cell_type": "code",
   "execution_count": 3,
   "metadata": {},
   "outputs": [
    {
     "data": {
      "text/plain": [
       "{'bikeid': '2295',\n",
       " 'birthyear': '1990',\n",
       " 'from_station_id': '156',\n",
       " 'from_station_name': 'Clark St & Wellington Ave',\n",
       " 'gender': 'Male',\n",
       " 'starttime': '3/31/2016 23:30',\n",
       " 'stoptime': '3/31/2016 23:46',\n",
       " 'to_station_id': '166',\n",
       " 'to_station_name': 'Ashland Ave & Wrightwood Ave',\n",
       " 'trip_id': '9080545',\n",
       " 'tripduration': '926',\n",
       " 'usertype': 'Subscriber'}"
      ]
     },
     "execution_count": 3,
     "metadata": {},
     "output_type": "execute_result"
    }
   ],
   "source": [
    "example_trips['Chicago']"
   ]
  },
  {
   "cell_type": "code",
   "execution_count": 4,
   "metadata": {
    "collapsed": true
   },
   "outputs": [],
   "source": [
    "def duration_in_mins(datum, city):\n",
    "    \"\"\"\n",
    "    Takes as input a dictionary containing info about a single trip (datum) and\n",
    "    its origin city (city) and returns the trip duration in units of minutes.\n",
    "    \n",
    "    Remember that Washington is in terms of milliseconds while Chicago and NYC\n",
    "    are in terms of seconds. \n",
    "    \n",
    "    HINT: The csv module reads in all of the data as strings, including numeric\n",
    "    values. You will need a function to convert the strings into an appropriate\n",
    "    numeric type when making your transformations.\n",
    "    see https://docs.python.org/3/library/functions.html\n",
    "    \"\"\"\n",
    "    \n",
    "    if city == 'Washington':\n",
    "        duration = float(datum['Duration (ms)']) * 0.001\n",
    "        duration = duration / 60\n",
    "    else:\n",
    "        duration = float(datum['tripduration'])/60\n",
    "    \n",
    "    return duration\n",
    "\n",
    "\n",
    "# Some tests to check that your code works. There should be no output if all of\n",
    "# the assertions pass. The `example_trips` dictionary was obtained from when\n",
    "# you printed the first trip from each of the original data files.\n",
    "tests = {'NYC': 13.9833,\n",
    "         'Chicago': 15.4333,\n",
    "         'Washington': 7.1231}\n",
    "\n",
    "for city in tests:\n",
    "    assert abs(duration_in_mins(example_trips[city], city) - tests[city]) < .001"
   ]
  },
  {
   "cell_type": "code",
   "execution_count": 5,
   "metadata": {
    "collapsed": true
   },
   "outputs": [],
   "source": [
    "def time_of_trip(datum, city):\n",
    "    \"\"\"\n",
    "    Takes as input a dictionary containing info about a single trip (datum) and\n",
    "    its origin city (city) and returns the month, hour, and day of the week in\n",
    "    which the trip was made.\n",
    "    \n",
    "    Remember that NYC includes seconds, while Washington and Chicago do not.\n",
    "    \n",
    "    HINT: You should use the datetime module to parse the original date\n",
    "    strings into a format that is useful for extracting the desired information.\n",
    "    see https://docs.python.org/3/library/datetime.html#strftime-and-strptime-behavior\n",
    "    \"\"\"\n",
    "    \n",
    "    if city == 'NYC':\n",
    "        dataAsString =  datetime.strptime(datum['starttime'],'%m/%d/%Y %H:%M:%S').strftime('%m %H %A')\n",
    "        month,hour,day_of_week = dataAsString.split(' ')\n",
    "        month = int(month)\n",
    "        hour = int(hour)\n",
    "    elif city == 'Chicago':\n",
    "        dataAsString =  datetime.strptime(datum['starttime'],'%m/%d/%Y %H:%M').strftime('%m %H %A')\n",
    "        month,hour,day_of_week = dataAsString.split(' ')\n",
    "        month = int(month)\n",
    "        hour = int(hour)\n",
    "    else:\n",
    "        dataAsString =  datetime.strptime(datum['Start date'],'%m/%d/%Y %H:%M').strftime('%m %H %A')\n",
    "        month,hour,day_of_week = dataAsString.split(' ')\n",
    "        month = int(month)\n",
    "        hour = int(hour)\n",
    "    return (month, hour, day_of_week)\n",
    "\n",
    "\n",
    "# Some tests to check that your code works. There should be no output if all of\n",
    "# the assertions pass. The `example_trips` dictionary was obtained from when\n",
    "# you printed the first trip from each of the original data files.\n",
    "tests = {'NYC': (1, 0, 'Friday'),\n",
    "         'Chicago': (3, 23, 'Thursday'),\n",
    "         'Washington': (3, 22, 'Thursday')}\n",
    "\n",
    "for city in tests:\n",
    "    assert time_of_trip(example_trips[city], city) == tests[city]"
   ]
  },
  {
   "cell_type": "code",
   "execution_count": 6,
   "metadata": {
    "collapsed": true
   },
   "outputs": [],
   "source": [
    "def type_of_user(datum, city):\n",
    "    \"\"\"\n",
    "    Takes as input a dictionary containing info about a single trip (datum) and\n",
    "    its origin city (city) and returns the type of system user that made the\n",
    "    trip.\n",
    "    \n",
    "    Remember that Washington has different category names compared to Chicago\n",
    "    and NYC. \n",
    "    \"\"\"\n",
    "    \n",
    "    if city == 'Washington':\n",
    "        if datum['Member Type'] == 'Registered':\n",
    "            return 'Subscriber'\n",
    "        else:\n",
    "            return 'Customer'\n",
    "    else:\n",
    "        return datum['usertype']\n",
    "    \n",
    "    return user_type\n",
    "\n",
    "\n",
    "# Some tests to check that your code works. There should be no output if all of\n",
    "# the assertions pass. The `example_trips` dictionary was obtained from when\n",
    "# you printed the first trip from each of the original data files.\n",
    "tests = {'NYC': 'Customer',\n",
    "         'Chicago': 'Subscriber',\n",
    "         'Washington': 'Subscriber'}\n",
    "\n",
    "for city in tests:\n",
    "    assert type_of_user(example_trips[city], city) == tests[city]"
   ]
  },
  {
   "cell_type": "markdown",
   "metadata": {},
   "source": [
    "**Question 3b**: Now, use the helper functions you wrote above to create a condensed data file for each city consisting only of the data fields indicated above. In the `/examples/` folder, you will see an example datafile from the [Bay Area Bike Share](http://www.bayareabikeshare.com/open-data) before and after conversion. Make sure that your output is formatted to be consistent with the example file."
   ]
  },
  {
   "cell_type": "code",
   "execution_count": 7,
   "metadata": {
    "collapsed": true
   },
   "outputs": [],
   "source": [
    "def condense_data(in_file, out_file, city):\n",
    "    \"\"\"\n",
    "    This function takes full data from the specified input file\n",
    "    and writes the condensed data to a specified output file. The city\n",
    "    argument determines how the input file will be parsed.\n",
    "    \n",
    "    HINT: See the cell below to see how the arguments are structured!\n",
    "    \"\"\"\n",
    "    \n",
    "    with open(out_file, 'w') as f_out, open(in_file, 'r') as f_in:\n",
    "        # set up csv DictWriter object - writer requires column names for the\n",
    "        # first row as the \"fieldnames\" argument\n",
    "        out_colnames = ['duration', 'month', 'hour', 'day_of_week', 'user_type']        \n",
    "        trip_writer = csv.DictWriter(f_out, fieldnames = out_colnames)\n",
    "        trip_writer.writeheader()\n",
    "        \n",
    "        ## TODO: set up csv DictReader object ##\n",
    "        trip_reader = csv.DictReader(f_in)\n",
    "\n",
    "        # collect data from and process each row\n",
    "        for row in trip_reader:\n",
    "            # set up a dictionary to hold the values for the cleaned and trimmed\n",
    "            # data point\n",
    "            new_point = {}\n",
    "\n",
    "            ## TODO: use the helper functions to get the cleaned data from  ##\n",
    "            ## the original data dictionaries.                              ##\n",
    "            ## Note that the keys for the new_point dictionary should match ##\n",
    "            ## the column names set in the DictWriter object above.         ##\n",
    "            \n",
    "            trip_writer.writerow({'duration':duration_in_mins(row,city),'month':time_of_trip(row,city)[0],'hour':time_of_trip(row,city)[1],'day_of_week':time_of_trip(row,city)[2],'user_type':type_of_user(row,city)})\n",
    "            \n",
    "\n",
    "            ## TODO: write the processed information to the output file.     ##\n",
    "            ## see https://docs.python.org/3/library/csv.html#writer-objects ##\n",
    "            \n",
    "            "
   ]
  },
  {
   "cell_type": "code",
   "execution_count": 8,
   "metadata": {},
   "outputs": [
    {
     "name": "stdout",
     "output_type": "stream",
     "text": [
      "\n",
      "City: NYC\n",
      "\n",
      "City: Washington\n",
      "\n",
      "City: Chicago\n"
     ]
    }
   ],
   "source": [
    "# Run this cell to check your work\n",
    "city_info = {'Washington': {'in_file': 'Washington-CapitalBikeshare-2016.csv',\n",
    "                            'out_file': 'Washington-2016-Summary.csv'},\n",
    "             'Chicago': {'in_file': 'Chicago-Divvy-2016.csv',\n",
    "                         'out_file': 'Chicago-2016-Summary.csv'},\n",
    "             'NYC': {'in_file': 'NYC-CitiBike-2016.csv',\n",
    "                     'out_file': 'NYC-2016-Summary.csv'}}\n",
    "\n",
    "for city, filenames in city_info.items():\n",
    "    condense_data(filenames['in_file'], filenames['out_file'], city)\n",
    "    print_first_point(filenames['out_file'])"
   ]
  },
  {
   "cell_type": "markdown",
   "metadata": {},
   "source": [
    "> **Tip**: If you save a jupyter Notebook, the output from running code blocks will also be saved. However, the state of your workspace will be reset once a new session is started. Make sure that you run all of the necessary code blocks from your previous session to reestablish variables and functions before picking up where you last left off.\n",
    "\n",
    "<a id='eda'></a>\n",
    "## Exploratory Data Analysis\n",
    "\n",
    "Now that you have the data collected and wrangled, you're ready to start exploring the data. In this section you will write some code to compute descriptive statistics from the data. You will also be introduced to the `matplotlib` library to create some basic histograms of the data.\n",
    "\n",
    "<a id='statistics'></a>\n",
    "### Statistics\n",
    "\n",
    "First, let's compute some basic counts. The first cell below contains a function that uses the csv module to iterate through a provided data file, returning the number of trips made by subscribers and customers. The second cell runs this function on the example Bay Area data in the `/examples/` folder. Modify the cells to answer the question below.\n",
    "\n",
    "**Question 4a**: Which city has the highest number of trips? Which city has the highest proportion of trips made by subscribers? Which city has the highest proportion of trips made by short-term customers?\n",
    "\n",
    "**Answer**: \n",
    "\n",
    "* NYC has hightest number of trips of 276798.\n",
    "* NYC has the highest proportion of trips made by subscribers 88.8359019935.\n",
    "* Chicago has the highest proportion of trips made by short-term customers with 23.7747986303."
   ]
  },
  {
   "cell_type": "code",
   "execution_count": 9,
   "metadata": {
    "collapsed": true
   },
   "outputs": [],
   "source": [
    "def number_of_trips(filename):\n",
    "    \"\"\"\n",
    "    This function reads in a file with trip data and reports the number of\n",
    "    trips made by subscribers, customers, and total overall.\n",
    "    \"\"\"\n",
    "    with open(filename, 'r') as f_in:\n",
    "        # set up csv reader object\n",
    "        reader = csv.DictReader(f_in)\n",
    "        \n",
    "        # initialize count variables\n",
    "        n_subscribers = 0\n",
    "        n_customers = 0\n",
    "        \n",
    "        # tally up ride types\n",
    "        for row in reader:\n",
    "            if row['user_type'] == 'Subscriber':\n",
    "                n_subscribers += 1\n",
    "            else:\n",
    "                n_customers += 1\n",
    "        \n",
    "        # compute total number of rides\n",
    "        n_total = n_subscribers + n_customers\n",
    "        \n",
    "        # return tallies as a tuple\n",
    "        return(n_subscribers, n_customers, n_total)"
   ]
  },
  {
   "cell_type": "code",
   "execution_count": 10,
   "metadata": {},
   "outputs": [
    {
     "name": "stdout",
     "output_type": "stream",
     "text": [
      "(5666, 633, 6299)\n"
     ]
    }
   ],
   "source": [
    "## Modify this and the previous cell to answer Question 4a. Remember to run ##\n",
    "## the function on the cleaned data files you created from Question 3.      ##\n",
    "\n",
    "data_file = './examples/BayArea-Y3-Summary.csv'\n",
    "print(number_of_trips(data_file))"
   ]
  },
  {
   "cell_type": "code",
   "execution_count": 11,
   "metadata": {},
   "outputs": [
    {
     "name": "stdout",
     "output_type": "stream",
     "text": [
      "NYC:\n",
      "Subscribers : 245896\n",
      "Customers : 30902\n",
      "Total : 276798\n",
      "Proportion of Subscribers :88.8359019935\n",
      "Proportion of Customers :11.1640980065\n",
      "\n",
      "\n",
      "Washington:\n",
      "Subscribers : 51753\n",
      "Customers : 14573\n",
      "Total : 66326\n",
      "Proportion of Subscribers :78.0282242258\n",
      "Proportion of Customers :21.9717757742\n",
      "\n",
      "\n",
      "Chicago:\n",
      "Subscribers : 54982\n",
      "Customers : 17149\n",
      "Total : 72131\n",
      "Proportion of Subscribers :76.2252013697\n",
      "Proportion of Customers :23.7747986303\n",
      "\n",
      "\n"
     ]
    }
   ],
   "source": [
    "summary_files = {'NYC':'NYC-2016-Summary.csv','Chicago':'Chicago-2016-Summary.csv','Washington':'Washington-2016-Summary.csv'}\n",
    "\n",
    "for city in summary_files:\n",
    "    n_subs,n_custs,n_total = number_of_trips(summary_files[city])\n",
    "    print(city + \":\\n\" + \"Subscribers\" + \" : \" + str(n_subs) + \"\\n\" + \"Customers\" + \" : \" + str(n_custs) + \"\\n\"+\"Total\" + \" : \" + str(n_total))\n",
    "    print(\"Proportion of Subscribers :\" + str(float(n_subs)/n_total * 100))\n",
    "    print(\"Proportion of Customers :\" + str(float(n_custs)/n_total * 100))\n",
    "    print(\"\\n\")"
   ]
  },
  {
   "cell_type": "markdown",
   "metadata": {},
   "source": [
    "> **Tip**: In order to add additional cells to a notebook, you can use the \"Insert Cell Above\" and \"Insert Cell Below\" options from the menu bar above. There is also an icon in the toolbar for adding new cells, with additional icons for moving the cells up and down the document. By default, new cells are of the code type; you can also specify the cell type (e.g. Code or Markdown) of selected cells from the Cell menu or the dropdown in the toolbar.\n",
    "\n",
    "Now, you will write your own code to continue investigating properties of the data.\n",
    "\n",
    "**Question 4b**: Bike-share systems are designed for riders to take short trips. Most of the time, users are allowed to take trips of 30 minutes or less with no additional charges, with overage charges made for trips of longer than that duration. What is the average trip length for each city? What proportion of rides made in each city are longer than 30 minutes?\n",
    "\n",
    "**Answer**: \n",
    "\n",
    "Avg. trip length for each city :\n",
    "\n",
    "* NYC : 15.812592998\n",
    "* Washington : 18.9328735591\n",
    "* Chicago : 16.5636293688\n",
    "\n",
    "Proportion of rides made in each city are longer than 30 minutes:\n",
    "\n",
    "* NYC : 7.30243715634\n",
    "* Washington : 10.8388867111\n",
    "* Chicago : 8.3320624974"
   ]
  },
  {
   "cell_type": "code",
   "execution_count": 12,
   "metadata": {
    "collapsed": true,
    "scrolled": true
   },
   "outputs": [],
   "source": [
    "## Use this and additional cells to answer Question 4b.                 ##\n",
    "##                                                                      ##\n",
    "## HINT: The csv module reads in all of the data as strings, including  ##\n",
    "## numeric values. You will need a function to convert the strings      ##\n",
    "## into an appropriate numeric type before you aggregate data.          ##\n",
    "## TIP: For the Bay Area example, the average trip length is 14 minutes ##\n",
    "## and 3.5% of trips are longer than 30 minutes.                        ##\n",
    "\n",
    "\n",
    "def trip_length_and_trips_more_than_30_minutes(filename):\n",
    "    \n",
    "    total_length = 0.0\n",
    "    total_trips = 0.0\n",
    "    trips_more_than_30_minutes = 0.0\n",
    "    \n",
    "    with open(filename,'r') as f_in:\n",
    "        \n",
    "        reader = csv.DictReader(f_in)\n",
    "        \n",
    "        for row in reader:\n",
    "            total_length = total_length + float(row['duration'])\n",
    "            \n",
    "            if float(row['duration']) > 30.0:\n",
    "                trips_more_than_30_minutes = trips_more_than_30_minutes + 1\n",
    "            \n",
    "            total_trips = total_trips + 1\n",
    "    \n",
    "    return ((float(total_length)/total_trips),(float(trips_more_than_30_minutes) * 100)/total_trips)\n",
    "        \n"
   ]
  },
  {
   "cell_type": "code",
   "execution_count": 13,
   "metadata": {},
   "outputs": [
    {
     "data": {
      "text/plain": [
       "(14.038656929671422, 3.5243689474519764)"
      ]
     },
     "execution_count": 13,
     "metadata": {},
     "output_type": "execute_result"
    }
   ],
   "source": [
    "trip_length_and_trips_more_than_30_minutes(data_file)"
   ]
  },
  {
   "cell_type": "code",
   "execution_count": 18,
   "metadata": {},
   "outputs": [
    {
     "name": "stdout",
     "output_type": "stream",
     "text": [
      "NYC : \n",
      "AVG. length of a trip :15.812592998\n",
      "trips more than 30 min :7.30243715634\n",
      "\n",
      "\n",
      "\n",
      "Washington : \n",
      "AVG. length of a trip :18.9328735591\n",
      "trips more than 30 min :10.8388867111\n",
      "\n",
      "\n",
      "\n",
      "Chicago : \n",
      "AVG. length of a trip :16.5636293688\n",
      "trips more than 30 min :8.3320624974\n",
      "\n",
      "\n",
      "\n"
     ]
    }
   ],
   "source": [
    "for city in summary_files:\n",
    "    avg_length,trips_more_than_30 = trip_length_and_trips_more_than_30_minutes(summary_files[city])\n",
    "    print(city + \" : \\n\" + \"AVG. length of a trip :\" + str(avg_length) + \"\\n\" + \"trips more than 30 min :\" + str(trips_more_than_30))\n",
    "    print(\"\\n\\n\")"
   ]
  },
  {
   "cell_type": "markdown",
   "metadata": {},
   "source": [
    "**Question 4c**: Dig deeper into the question of trip duration based on ridership. Choose one city. Within that city, which type of user takes longer rides on average: Subscribers or Customers?\n",
    "\n",
    "**Answer**: \n",
    "We can see that in all 3 cities the avg. length os trip for a customer is more than that of subscribers.\n",
    "Also if you observe avg. length of customer,its almost more than twice in every city."
   ]
  },
  {
   "cell_type": "code",
   "execution_count": 19,
   "metadata": {
    "collapsed": true
   },
   "outputs": [],
   "source": [
    "## Use this and additional cells to answer Question 4c. If you have    ##\n",
    "## not done so yet, consider revising some of your previous code to    ##\n",
    "## make use of functions for reusability.                              ##\n",
    "##                                                                     ##\n",
    "## TIP: For the Bay Area example data, you should find the average     ##\n",
    "## Subscriber trip duration to be 9.5 minutes and the average Customer ##\n",
    "## trip duration to be 54.6 minutes. Do the other cities have this     ##\n",
    "## level of difference? \n",
    "##\n",
    "\n",
    "\n",
    "\n",
    "def sub_and_cus_duration(filename):\n",
    "    \n",
    "    total_sub_length = 0.0\n",
    "    total_cus_length = 0.0\n",
    "    total_sub_trips = 0.0\n",
    "    total_cus_trips = 0.0\n",
    "    \n",
    "    with open(filename,'r') as f_in:\n",
    "        \n",
    "        reader = csv.DictReader(f_in)\n",
    "        \n",
    "        for row in reader:\n",
    "            \n",
    "            if row['user_type'] == 'Subscriber':\n",
    "                total_sub_trips = total_sub_trips + 1\n",
    "                total_sub_length = total_sub_length + float(row['duration'])\n",
    "            else:\n",
    "                total_cus_trips = total_cus_trips + 1\n",
    "                total_cus_length = total_cus_length + float(row['duration'])\n",
    "            \n",
    "    \n",
    "    return ((total_sub_length/total_sub_trips) , (total_cus_length/total_cus_trips))\n",
    "        "
   ]
  },
  {
   "cell_type": "code",
   "execution_count": 20,
   "metadata": {},
   "outputs": [
    {
     "data": {
      "text/plain": [
       "(9.512633839275217, 54.55121116377032)"
      ]
     },
     "execution_count": 20,
     "metadata": {},
     "output_type": "execute_result"
    }
   ],
   "source": [
    "sub_and_cus_duration(data_file)"
   ]
  },
  {
   "cell_type": "code",
   "execution_count": 21,
   "metadata": {},
   "outputs": [
    {
     "name": "stdout",
     "output_type": "stream",
     "text": [
      "NYC : \n",
      "avg. sub duration :13.6807905239\n",
      "avg. cus duration :32.7759513947\n",
      "\n",
      "\n",
      "\n",
      "Washington : \n",
      "avg. sub duration :12.5281204993\n",
      "avg. cus duration :41.6780313925\n",
      "\n",
      "\n",
      "\n",
      "Chicago : \n",
      "avg. sub duration :12.0672016903\n",
      "avg. cus duration :30.979781134\n",
      "\n",
      "\n",
      "\n"
     ]
    }
   ],
   "source": [
    "for city in summary_files:\n",
    "    avg_sub_duration,avg_cus_duration = sub_and_cus_duration(summary_files[city])\n",
    "    print(city + \" : \\n\" + \"avg. sub duration :\" + str(avg_sub_duration) + \"\\n\" + \"avg. cus duration :\" + str(avg_cus_duration))\n",
    "    print(\"\\n\\n\")"
   ]
  },
  {
   "cell_type": "markdown",
   "metadata": {},
   "source": [
    "<a id='visualizations'></a>\n",
    "### Visualizations\n",
    "\n",
    "The last set of values that you computed should have pulled up an interesting result. While the mean trip time for Subscribers is well under 30 minutes, the mean trip time for Customers is actually _above_ 30 minutes! It will be interesting for us to look at how the trip times are distributed. In order to do this, a new library will be introduced here, `matplotlib`. Run the cell below to load the library and to generate an example plot."
   ]
  },
  {
   "cell_type": "code",
   "execution_count": 22,
   "metadata": {},
   "outputs": [
    {
     "data": {
      "image/png": "[encoded data removed]",
      "text/plain": [
       "<matplotlib.figure.Figure at 0x1132db210>"
      ]
     },
     "metadata": {},
     "output_type": "display_data"
    }
   ],
   "source": [
    "# load library\n",
    "import matplotlib.pyplot as plt\n",
    "import seaborn as sb\n",
    "\n",
    "# this is a 'magic word' that allows for plots to be displayed\n",
    "# inline with the notebook. If you want to know more, see:\n",
    "# http://ipython.readthedocs.io/en/stable/interactive/magics.html\n",
    "%matplotlib inline \n",
    "\n",
    "# example histogram, data taken from bay area sample\n",
    "data = [ 7.65,  8.92,  7.42,  5.50, 16.17,  4.20,  8.98,  9.62, 11.48, 14.33,\n",
    "        19.02, 21.53,  3.90,  7.97,  2.62,  2.67,  3.08, 14.40, 12.90,  7.83,\n",
    "        25.12,  8.30,  4.93, 12.43, 10.60,  6.17, 10.88,  4.78, 15.15,  3.53,\n",
    "         9.43, 13.32, 11.72,  9.85,  5.22, 15.10,  3.95,  3.17,  8.78,  1.88,\n",
    "         4.55, 12.68, 12.38,  9.78,  7.63,  6.45, 17.38, 11.90, 11.52,  8.63]\n",
    "plt.hist(data)\n",
    "plt.title('Distribution of Trip Durations')\n",
    "plt.xlabel('Duration (m)')\n",
    "plt.show()"
   ]
  },
  {
   "cell_type": "markdown",
   "metadata": {},
   "source": [
    "In the above cell, we collected fifty trip times in a list, and passed this list as the first argument to the `.hist()` function. This function performs the computations and creates plotting objects for generating a histogram, but the plot is actually not rendered until the `.show()` function is executed. The `.title()` and `.xlabel()` functions provide some labeling for plot context.\n",
    "\n",
    "You will now use these functions to create a histogram of the trip times for the city you selected in question 4c. Don't separate the Subscribers and Customers for now: just collect all of the trip times and plot them."
   ]
  },
  {
   "cell_type": "code",
   "execution_count": 20,
   "metadata": {},
   "outputs": [
    {
     "data": {
      "text/plain": [
       "(1, 80)"
      ]
     },
     "execution_count": 20,
     "metadata": {},
     "output_type": "execute_result"
    },
    {
     "data": {
      "image/png": "[encoded data removed]",
      "text/plain": [
       "<matplotlib.figure.Figure at 0x10dca0f90>"
      ]
     },
     "metadata": {},
     "output_type": "display_data"
    }
   ],
   "source": [
    "## Use this and additional cells to collect all of the trip times as a list ##\n",
    "## and then use pyplot functions to generate a histogram of trip times.     ##\n",
    "import seaborn as sb\n",
    "\n",
    "NYC_trips = []\n",
    "\n",
    "with open('NYC-2016-Summary.csv','r') as f_in:\n",
    "    \n",
    "    reader = csv.DictReader(f_in)\n",
    "    \n",
    "    for row in reader:\n",
    "        NYC_trips.append(float(row['duration']))\n",
    "\n",
    "plt.figure(figsize=(30,10))\n",
    "plt.hist(NYC_trips,bins = 10000)\n",
    "plt.xlim(1,80)\n"
   ]
  },
  {
   "cell_type": "markdown",
   "metadata": {},
   "source": [
    "If you followed the use of the `.hist()` and `.show()` functions exactly like in the example, you're probably looking at a plot that's completely unexpected. The plot consists of one extremely tall bar on the left, maybe a very short second bar, and a whole lot of empty space in the center and right. Take a look at the duration values on the x-axis. This suggests that there are some highly infrequent outliers in the data. Instead of reprocessing the data, you will use additional parameters with the `.hist()` function to limit the range of data that is plotted. Documentation for the function can be found [[here]](https://matplotlib.org/devdocs/api/_as_gen/matplotlib.pyplot.hist.html#matplotlib.pyplot.hist).\n",
    "\n",
    "**Question 5**: Use the parameters of the `.hist()` function to plot the distribution of trip times for the Subscribers in your selected city. Do the same thing for only the Customers. Add limits to the plots so that only trips of duration less than 75 minutes are plotted. As a bonus, set the plots up so that bars are in five-minute wide intervals. For each group, where is the peak of each distribution? How would you describe the shape of each distribution?\n",
    "\n",
    "**Answer**:\n",
    "\n",
    "Well,for the subscriber trip times the peak values occured in the range 6-11 while for the customer its 16-21.\n",
    "\n",
    "I think both of these histogram curves are skewed towards right as for both the median is less than mean as we see from calculations below.\n"
   ]
  },
  {
   "cell_type": "code",
   "execution_count": 71,
   "metadata": {
    "collapsed": true
   },
   "outputs": [],
   "source": [
    "## Use this and additional cells to answer Question 5. ##\n",
    "import numpy as np\n",
    "\n",
    "sub_trip_times = []\n",
    "cus_trip_times = []\n",
    "\n",
    "with open('NYC-2016-Summary.csv','r') as f_in:\n",
    "    reader = csv.DictReader(f_in)\n",
    "    \n",
    "    for row in reader:\n",
    "        if row['user_type'] == 'Subscriber':\n",
    "            sub_trip_times.append(row['duration'])\n",
    "        else:\n",
    "            cus_trip_times.append(row['duration'])\n",
    "\n",
    "\n",
    "sub_trip_times = list(map(float,sub_trip_times))\n",
    "cus_trip_times = list(map(float,cus_trip_times))"
   ]
  },
  {
   "cell_type": "code",
   "execution_count": 87,
   "metadata": {},
   "outputs": [
    {
     "name": "stdout",
     "output_type": "stream",
     "text": [
      "13.6807905239\n",
      "9.71666666667\n"
     ]
    }
   ],
   "source": [
    "mean_subs = np.mean(sub_trip_times)\n",
    "median_subs = np.median(sub_trip_times)\n",
    "\n",
    "print(mean_subs)\n",
    "print(median_subs) ## Median is less than mean so its a right skewed distribution."
   ]
  },
  {
   "cell_type": "code",
   "execution_count": 89,
   "metadata": {},
   "outputs": [
    {
     "name": "stdout",
     "output_type": "stream",
     "text": [
      "32.7759513947\n",
      "21.2\n"
     ]
    }
   ],
   "source": [
    "mean_cuss = np.mean(cus_trip_times)\n",
    "median_cuss = np.median(cus_trip_times)\n",
    "\n",
    "print(mean_cuss)\n",
    "print(median_cuss) ## Median is less than mean so its a right skewed distribution."
   ]
  },
  {
   "cell_type": "code",
   "execution_count": 67,
   "metadata": {},
   "outputs": [
    {
     "data": {
      "text/plain": [
       "([<matplotlib.axis.XTick at 0x1a38282c10>,\n",
       "  <matplotlib.axis.XTick at 0x1a228b6750>,\n",
       "  <matplotlib.axis.XTick at 0x1a4edba8d0>,\n",
       "  <matplotlib.axis.XTick at 0x1a54d24790>,\n",
       "  <matplotlib.axis.XTick at 0x1a54d24c50>,\n",
       "  <matplotlib.axis.XTick at 0x1a54d2e150>,\n",
       "  <matplotlib.axis.XTick at 0x1a54d2e650>,\n",
       "  <matplotlib.axis.XTick at 0x1a54d2eb50>,\n",
       "  <matplotlib.axis.XTick at 0x1a54d39090>,\n",
       "  <matplotlib.axis.XTick at 0x1a54d39590>,\n",
       "  <matplotlib.axis.XTick at 0x1a54d39a90>,\n",
       "  <matplotlib.axis.XTick at 0x1a54d39f90>,\n",
       "  <matplotlib.axis.XTick at 0x1a54d434d0>,\n",
       "  <matplotlib.axis.XTick at 0x1a54d439d0>,\n",
       "  <matplotlib.axis.XTick at 0x1a54d43ed0>,\n",
       "  <matplotlib.axis.XTick at 0x1a54d4e410>,\n",
       "  <matplotlib.axis.XTick at 0x1a54d4e910>,\n",
       "  <matplotlib.axis.XTick at 0x1a54d4ee10>,\n",
       "  <matplotlib.axis.XTick at 0x1a54d58350>,\n",
       "  <matplotlib.axis.XTick at 0x1a54d58850>],\n",
       " <a list of 20 Text xticklabel objects>)"
      ]
     },
     "execution_count": 67,
     "metadata": {},
     "output_type": "execute_result"
    },
    {
     "data": {
      "image/png": "[encoded data removed]",
      "text/plain": [
       "<matplotlib.figure.Figure at 0x1a4edba510>"
      ]
     },
     "metadata": {},
     "output_type": "display_data"
    }
   ],
   "source": [
    "\n",
    "plt.hist(sub_trip_times,bins = 8000)\n",
    "plt.xlim(1,100)\n",
    "plt.xticks(np.arange(1,100,5))"
   ]
  },
  {
   "cell_type": "code",
   "execution_count": 70,
   "metadata": {},
   "outputs": [
    {
     "data": {
      "text/plain": [
       "([<matplotlib.axis.XTick at 0x1a3170ce50>,\n",
       "  <matplotlib.axis.XTick at 0x1a59bc2ad0>,\n",
       "  <matplotlib.axis.XTick at 0x1a58009b90>,\n",
       "  <matplotlib.axis.XTick at 0x1a5b8ea310>,\n",
       "  <matplotlib.axis.XTick at 0x1a5b8ea7d0>,\n",
       "  <matplotlib.axis.XTick at 0x1a5b8eac90>,\n",
       "  <matplotlib.axis.XTick at 0x1a5b8f51d0>,\n",
       "  <matplotlib.axis.XTick at 0x1a5b8f56d0>,\n",
       "  <matplotlib.axis.XTick at 0x1a5b8f5bd0>,\n",
       "  <matplotlib.axis.XTick at 0x1a5b8fe110>,\n",
       "  <matplotlib.axis.XTick at 0x1a5b8fe610>,\n",
       "  <matplotlib.axis.XTick at 0x1a5b8feb10>,\n",
       "  <matplotlib.axis.XTick at 0x1a5b909050>,\n",
       "  <matplotlib.axis.XTick at 0x1a5b909550>,\n",
       "  <matplotlib.axis.XTick at 0x1a5b909a50>,\n",
       "  <matplotlib.axis.XTick at 0x1a5b909f50>,\n",
       "  <matplotlib.axis.XTick at 0x1a5b914490>,\n",
       "  <matplotlib.axis.XTick at 0x1a5b914990>,\n",
       "  <matplotlib.axis.XTick at 0x1a5b914e90>,\n",
       "  <matplotlib.axis.XTick at 0x1a5b91e3d0>],\n",
       " <a list of 20 Text xticklabel objects>)"
      ]
     },
     "execution_count": 70,
     "metadata": {},
     "output_type": "execute_result"
    },
    {
     "data": {
      "image/png": "[encoded data removed]",
      "text/plain": [
       "<matplotlib.figure.Figure at 0x1a59caa9d0>"
      ]
     },
     "metadata": {},
     "output_type": "display_data"
    }
   ],
   "source": [
    "plt.hist(cus_trip_times,bins = 2400)\n",
    "plt.xlim(1,100)\n",
    "plt.xticks(np.arange(1,100,5))"
   ]
  },
  {
   "cell_type": "markdown",
   "metadata": {
    "collapsed": true
   },
   "source": [
    "<a id='eda_continued'></a>\n",
    "## Performing Your Own Analysis\n",
    "\n",
    "So far, you've performed an initial exploration into the data available. You have compared the relative volume of trips made between three U.S. cities and the ratio of trips made by Subscribers and Customers. For one of these cities, you have investigated differences between Subscribers and Customers in terms of how long a typical trip lasts. Now it is your turn to continue the exploration in a direction that you choose. Here are a few suggestions for questions to explore:\n",
    "\n",
    "- How does ridership differ by month or season? Which month / season has the highest ridership? Does the ratio of Subscriber trips to Customer trips change depending on the month or season?\n",
    "- Is the pattern of ridership different on the weekends versus weekdays? On what days are Subscribers most likely to use the system? What about Customers? Does the average duration of rides change depending on the day of the week?\n",
    "- During what time of day is the system used the most? Is there a difference in usage patterns for Subscribers and Customers?\n",
    "\n",
    "If any of the questions you posed in your answer to question 1 align with the bullet points above, this is a good opportunity to investigate one of them. As part of your investigation, you will need to create a visualization. If you want to create something other than a histogram, then you might want to consult the [Pyplot documentation](https://matplotlib.org/devdocs/api/pyplot_summary.html). In particular, if you are plotting values across a categorical variable (e.g. city, user type), a bar chart will be useful. The [documentation page for `.bar()`](https://matplotlib.org/devdocs/api/_as_gen/matplotlib.pyplot.bar.html#matplotlib.pyplot.bar) includes links at the bottom of the page with examples for you to build off of for your own use.\n",
    "\n",
    "**Question 6**: Continue the investigation by exploring another question that could be answered by the data available. Document the question you want to explore below. Your investigation should involve at least two variables and should compare at least two groups. You should also use at least one visualization as part of your explorations.\n",
    "\n",
    "**Answer**: Here i wanted to see what is the month for NYC for which it has maximum subscriber and customer trips.By implementing and visualising below i found out that -->\n",
    "\n",
    "* Months september and october are the months with highest ridership in the case of subscribers.\n",
    "\n",
    "* Months august and september are the months with highest ridership in the case of customers."
   ]
  },
  {
   "cell_type": "code",
   "execution_count": 80,
   "metadata": {
    "collapsed": true
   },
   "outputs": [],
   "source": [
    "## Use this and additional cells to continue to explore the dataset. ##\n",
    "## Once you have performed your exploration, document your findings  ##\n",
    "## in the Markdown cell above. ##\n",
    "\n",
    "from collections import Counter\n",
    "\n",
    "month_counter_subs = Counter()\n",
    "month_counter_cuss = Counter()\n",
    "\n",
    "with open('NYC-2016-Summary.csv') as f_in:\n",
    "    \n",
    "    reader = csv.DictReader(f_in)\n",
    "    for row in reader:\n",
    "        if row['user_type'] == 'Subscriber':\n",
    "            month_counter_subs[row['month']] += 1\n",
    "        else:\n",
    "            month_counter_cuss[row['month']] += 1"
   ]
  },
  {
   "cell_type": "code",
   "execution_count": 81,
   "metadata": {},
   "outputs": [
    {
     "data": {
      "text/plain": [
       "([<matplotlib.axis.XTick at 0x1a5bcd7f50>,\n",
       "  <matplotlib.axis.XTick at 0x1a5bc33dd0>,\n",
       "  <matplotlib.axis.XTick at 0x1a5bc3c7d0>,\n",
       "  <matplotlib.axis.XTick at 0x1a5bd38a50>,\n",
       "  <matplotlib.axis.XTick at 0x1a5bd38f10>,\n",
       "  <matplotlib.axis.XTick at 0x1a5bd44450>,\n",
       "  <matplotlib.axis.XTick at 0x1a5bd44950>,\n",
       "  <matplotlib.axis.XTick at 0x1a5bd44e50>,\n",
       "  <matplotlib.axis.XTick at 0x1a5bd4d390>,\n",
       "  <matplotlib.axis.XTick at 0x1a5bd4d890>,\n",
       "  <matplotlib.axis.XTick at 0x1a5bd4dd90>,\n",
       "  <matplotlib.axis.XTick at 0x1a5bd582d0>],\n",
       " <a list of 12 Text xticklabel objects>)"
      ]
     },
     "execution_count": 81,
     "metadata": {},
     "output_type": "execute_result"
    },
    {
     "data": {
      "image/png": "[encoded data removed]",
      "text/plain": [
       "<matplotlib.figure.Figure at 0x1a5bc3cf50>"
      ]
     },
     "metadata": {},
     "output_type": "display_data"
    }
   ],
   "source": [
    "plt.bar(range(len(month_counter_subs)), month_counter_subs.values(), align='center')\n",
    "plt.xticks(range(len(month_counter_subs)), month_counter_subs.keys(), rotation=25)"
   ]
  },
  {
   "cell_type": "code",
   "execution_count": 82,
   "metadata": {},
   "outputs": [
    {
     "data": {
      "text/plain": [
       "([<matplotlib.axis.XTick at 0x1a5bce7550>,\n",
       "  <matplotlib.axis.XTick at 0x1a5bcd7e10>,\n",
       "  <matplotlib.axis.XTick at 0x1a5bce7b10>,\n",
       "  <matplotlib.axis.XTick at 0x1a46ab5cd0>,\n",
       "  <matplotlib.axis.XTick at 0x1a46ac11d0>,\n",
       "  <matplotlib.axis.XTick at 0x1a46ac16d0>,\n",
       "  <matplotlib.axis.XTick at 0x1a46ac1bd0>,\n",
       "  <matplotlib.axis.XTick at 0x1a46acc110>,\n",
       "  <matplotlib.axis.XTick at 0x1a46acc610>,\n",
       "  <matplotlib.axis.XTick at 0x1a46accb10>,\n",
       "  <matplotlib.axis.XTick at 0x1a46ad5050>,\n",
       "  <matplotlib.axis.XTick at 0x1a46ad5550>],\n",
       " <a list of 12 Text xticklabel objects>)"
      ]
     },
     "execution_count": 82,
     "metadata": {},
     "output_type": "execute_result"
    },
    {
     "data": {
      "image/png": "[encoded data removed]",
      "text/plain": [
       "<matplotlib.figure.Figure at 0x1a5bce7750>"
      ]
     },
     "metadata": {},
     "output_type": "display_data"
    }
   ],
   "source": [
    "plt.bar(range(len(month_counter_cuss)), month_counter_cuss.values(), align='center')\n",
    "plt.xticks(range(len(month_counter_cuss)), month_counter_cuss.keys(), rotation=25)"
   ]
  },
  {
   "cell_type": "markdown",
   "metadata": {},
   "source": [
    "<a id='conclusions'></a>\n",
    "## Conclusions\n",
    "\n",
    "Congratulations on completing the project! This is only a sampling of the data analysis process: from generating questions, wrangling the data, and to exploring the data. Normally, at this point in the data analysis process, you might want to draw conclusions about the data by performing a statistical test or fitting the data to a model for making predictions. There are also a lot of potential analyses that could be performed on the data which are not possible with only the data provided. For example, detailed location data has not been investigated. Where are the most commonly used docks? What are the most common routes? As another example, weather has potential to have a large impact on daily ridership. How much is ridership impacted when there is rain or snow? Are subscribers or customers affected more by changes in weather?\n",
    "\n",
    "**Question 7**: Putting the bike share data aside, think of a topic or field of interest where you would like to be able to apply the techniques of data science. What would you like to be able to learn from your chosen subject?\n",
    "\n",
    "**Answer**: Well i can use data science any where.I can use it to create a sports fantasy team.I can use it in titanice exploration problem to predict if a person could be alive or dead.I can use this to predict student score according to number of hours her studied.I can use this to predict a new born child blood group(Well this might be possible by using the past two generations of their family as input)\n",
    "\n",
    "Data Science could be used anywhere,anyfield and its awesome :)\n",
    "\n",
    "> **Tip**: If we want to share the results of our analysis with others, we aren't limited to giving them a copy of the jupyter Notebook (.ipynb) file. We can also export the Notebook output in a form that can be opened even for those without Python installed. From the **File** menu in the upper left, go to the **Download as** submenu. You can then choose a different format that can be viewed more generally, such as HTML (.html) or\n",
    "PDF (.pdf). You may need additional packages or software to perform these exports."
   ]
  }
 ],
 "metadata": {
  "anaconda-cloud": {},
  "kernelspec": {
   "display_name": "Python [conda env:ML]",
   "language": "python",
   "name": "conda-env-ML-py"
  },
  "language_info": {
   "codemirror_mode": {
    "name": "ipython",
    "version": 2
   },
   "file_extension": ".py",
   "mimetype": "text/x-python",
   "name": "python",
   "nbconvert_exporter": "python",
   "pygments_lexer": "ipython2",
   "version": "2.7.14"
  }
 },
 "nbformat": 4,
 "nbformat_minor": 1
}
