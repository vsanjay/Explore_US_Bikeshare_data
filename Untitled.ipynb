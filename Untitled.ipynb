{
 "cells": [
  {
   "cell_type": "code",
   "execution_count": 7,
   "metadata": {
    "collapsed": true
   },
   "outputs": [],
   "source": [
    "import numpy as np\n",
    "import pandas as pd\n",
    "import csv"
   ]
  },
  {
   "cell_type": "code",
   "execution_count": 8,
   "metadata": {
    "collapsed": true
   },
   "outputs": [],
   "source": [
    "f1 = open('aaa.csv','w')\n",
    "writer = csv.DictWriter(f1,fieldnames= ['names','age'])\n",
    "writer.writeheader()\n",
    "writer.writerow({\"names\":\"sanjay\",\"age\":18})\n",
    "writer.writerow({\"names\":\"sanjay\",\"age\":19})\n",
    "writer.writerow({\"names\":\"sanjay\",\"age\":20})\n",
    "writer.writerow({\"names\":\"sanjay\",\"age\":21})\n",
    "writer.writerow({\"names\":\"sanjay\",\"age\":134})\n",
    "writer.writerow({\"names\":\"sanjay\",\"age\":43})\n",
    "writer.writerow({\"names\":\"sanjay\",\"age\":50398})"
   ]
  },
  {
   "cell_type": "code",
   "execution_count": null,
   "metadata": {
    "collapsed": true
   },
   "outputs": [],
   "source": [
    "reader = csv.DictReader(f1)"
   ]
  }
 ],
 "metadata": {
  "kernelspec": {
   "display_name": "Python [conda env:ML]",
   "language": "python",
   "name": "conda-env-ML-py"
  },
  "language_info": {
   "codemirror_mode": {
    "name": "ipython",
    "version": 2
   },
   "file_extension": ".py",
   "mimetype": "text/x-python",
   "name": "python",
   "nbconvert_exporter": "python",
   "pygments_lexer": "ipython2",
   "version": "2.7.14"
  }
 },
 "nbformat": 4,
 "nbformat_minor": 2
}
